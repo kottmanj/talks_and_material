{
 "cells": [
  {
   "cell_type": "code",
   "execution_count": 1,
   "metadata": {
    "slideshow": {
     "slide_type": "skip"
    }
   },
   "outputs": [],
   "source": [
    "# tequila git commit hash\n",
    "# afd00a8283f419add5520d64cf337b0ff0467792\n",
    "# Note that a lot of symbols are re-used in the presentation for readability.\n",
    "# It is advised to copy code into a save environment."
   ]
  },
  {
   "cell_type": "markdown",
   "metadata": {
    "slideshow": {
     "slide_type": "slide"
    }
   },
   "source": [
    "### Orbitals, Fermions and Gradients: Getting started with Tequila\n",
    "\n",
    "`pip install git+https://github.com/aspuru-guzik-group/tequila.git`  \n",
    "\n",
    "<img src=\"pics/tq_principle.png\"  width=\"600px\">  \n",
    "\n",
    "Slides in notebook form:\n",
    "[github.com/kottmanj/talks_and_material](https://github.com/kottmanj/talks_and_material)  \n"
   ]
  },
  {
   "cell_type": "code",
   "execution_count": 2,
   "metadata": {
    "slideshow": {
     "slide_type": "fragment"
    }
   },
   "outputs": [],
   "source": [
    "import tequila as tq\n",
    "import numpy"
   ]
  },
  {
   "cell_type": "markdown",
   "metadata": {
    "slideshow": {
     "slide_type": "slide"
    }
   },
   "source": [
    "## Warmup:\n",
    "\n",
    "Original idea for quantum computers: Simulate nature  \n",
    "\n",
    "\n",
    "<img src=\"pics/qpe_analogy_wbg.png\" width=\"400px\">  \n",
    "\n",
    "\n",
    "Assume: $U = e^{i\\frac{\\theta}{2}G}$ with hermitian matrix $G$ and $\\theta=2\\pi$.  \n",
    "For simplicity: Assume eigenvalues of $G$ are $0$ and $1$"
   ]
  },
  {
   "cell_type": "markdown",
   "metadata": {
    "slideshow": {
     "slide_type": "slide"
    }
   },
   "source": [
    "Concrete example: $$ G = \\sigma_x + 1 $$"
   ]
  },
  {
   "cell_type": "code",
   "execution_count": 3,
   "metadata": {
    "slideshow": {
     "slide_type": "fragment"
    }
   },
   "outputs": [],
   "source": [
    "G = 0.5*(tq.paulis.X(1)+1.0)"
   ]
  },
  {
   "cell_type": "code",
   "execution_count": 4,
   "metadata": {
    "slideshow": {
     "slide_type": "fragment"
    }
   },
   "outputs": [
    {
     "name": "stdout",
     "output_type": "stream",
     "text": [
      "energy = +0.00000, wfn= -0.7071|0> +0.7071|1> \n",
      "energy = +1.00000, wfn= +0.7071|0> +0.7071|1> \n"
     ]
    }
   ],
   "source": [
    "val, vec = numpy.linalg.eigh(G.to_matrix())\n",
    "eigenstates = []\n",
    "for i in range(2):\n",
    "    wfn = tq.QubitWaveFunction.from_array(vec[:,i])\n",
    "    print(\"energy = {:+2.5f}, wfn=\".format(val[i]), wfn)\n",
    "    eigenstates.append(wfn)"
   ]
  },
  {
   "cell_type": "markdown",
   "metadata": {
    "slideshow": {
     "slide_type": "slide"
    }
   },
   "source": [
    "<img src=\"pics/qpe_analogy_circuit_wbg.png\" alt=\"Simulated Laboratory\" width=\"400px\">  "
   ]
  },
  {
   "cell_type": "code",
   "execution_count": 5,
   "metadata": {
    "slideshow": {
     "slide_type": "fragment"
    }
   },
   "outputs": [
    {
     "name": "stdout",
     "output_type": "stream",
     "text": [
      "wavefunction after circuit:\n",
      " +0.5000e^(-0.2500πi)|00> +0.5000e^(-0.2500πi)|10> +0.5000e^(+0.7500πi)|01> +0.5000e^(-0.2500πi)|11> \n"
     ]
    }
   ],
   "source": [
    "a=2*numpy.pi\n",
    "cU = tq.gates.Trotterized(generator=G, angle=a, control=0)\n",
    "U = tq.gates.H(0) + cU + tq.gates.H(0)\n",
    "wfn = tq.simulate(U)\n",
    "print(\"wavefunction after circuit:\\n\", wfn)\n"
   ]
  },
  {
   "cell_type": "code",
   "execution_count": 53,
   "metadata": {
    "slideshow": {
     "slide_type": "fragment"
    }
   },
   "outputs": [
    {
     "name": "stdout",
     "output_type": "stream",
     "text": [
      "wavefunction after measurements:\n",
      " +0.7071e^(-0.2500πi)|00> +0.7071e^(+0.7500πi)|01> \n",
      "fidelity with eigenstate 0: 0.9999999999999998\n"
     ]
    }
   ],
   "source": [
    "Qp = tq.paulis.Qp(0) # Qp = |0><0| = 0.5(Z+1)\n",
    "wfn2 = Qp(wfn)\n",
    "wfn2 = wfn2.normalize()\n",
    "print(\"wavefunction after measurements:\\n\",wfn2)\n",
    "fidelity = numpy.abs(wfn2.inner(eigenstates[0]))**2\n",
    "print(\"fidelity with eigenstate 0:\", fidelity )"
   ]
  },
  {
   "cell_type": "markdown",
   "metadata": {
    "slideshow": {
     "slide_type": "slide"
    }
   },
   "source": [
    "### A Toy VQE\n",
    "\n",
    "Example before: Quantum Phase Estimation (measure eigenvalues of Hermitian operator)  \n",
    "\n",
    "Now: Variational Quantum Eigensolver (minimize expectation value of Hermitian operator)\n",
    "\n",
    "$$ \\min_{\\theta} \\langle H \\rangle_{U(\\theta)} $$\n"
   ]
  },
  {
   "cell_type": "code",
   "execution_count": 7,
   "metadata": {
    "slideshow": {
     "slide_type": "slide"
    }
   },
   "outputs": [],
   "source": [
    "H = 0.5*(tq.paulis.X(0) + 1.0)\n",
    "U = tq.gates.Ry(target=0, angle=\"a\")\n",
    "E = tq.ExpectationValue(H=H, U=U)"
   ]
  },
  {
   "cell_type": "code",
   "execution_count": 8,
   "metadata": {
    "slideshow": {
     "slide_type": "fragment"
    }
   },
   "outputs": [
    {
     "name": "stderr",
     "output_type": "stream",
     "text": [
      "WARNING:absl:No GPU/TPU found, falling back to CPU. (Set TF_CPP_MIN_LOG_LEVEL=0 and rerun for more info.)\n"
     ]
    },
    {
     "name": "stdout",
     "output_type": "stream",
     "text": [
      "Optimizer: <class 'tequila.optimizers.optimizer_scipy.OptimizerSciPy'> \n",
      "backend         : qulacs\n",
      "device          : None\n",
      "samples         : None\n",
      "save_history    : True\n",
      "noise           : None\n",
      "\n",
      "Method          : BFGS\n",
      "Objective       : 1 expectationvalues\n",
      "gradient        : 2 expectationvalues\n",
      "\n",
      "active variables : 1\n",
      "\n",
      "E=+0.50000000  angles= {a: 0.0}  samples= None\n",
      "E=+0.26028723  angles= {a: -0.5}  samples= None\n",
      "E=+0.00026787  angles= {a: -1.6035311193256832}  samples= None\n",
      "E=+0.00001204  angles= {a: -1.5638552774723973}  samples= None\n",
      "E=+0.00000000  angles= {a: -1.5707973321904534}  samples= None\n",
      "Optimization terminated successfully.\n",
      "         Current function value: 0.000000\n",
      "         Iterations: 4\n",
      "         Function evaluations: 5\n",
      "         Gradient evaluations: 5\n"
     ]
    }
   ],
   "source": [
    "result = tq.minimize(E)"
   ]
  },
  {
   "cell_type": "markdown",
   "metadata": {
    "slideshow": {
     "slide_type": "slide"
    }
   },
   "source": [
    "### Simulate and Compile Objectives"
   ]
  },
  {
   "cell_type": "code",
   "execution_count": 9,
   "metadata": {
    "slideshow": {
     "slide_type": "fragment"
    }
   },
   "outputs": [],
   "source": [
    "# simulate objectives\n",
    "energy1 = tq.simulate(E, variables={\"a\": -numpy.pi/2})\n",
    "# compile objectives and use as functions\n",
    "f = tq.compile(E)\n",
    "energy2 = f({\"a\":-numpy.pi/2})\n",
    "# use different backends and options\n",
    "energy3 = tq.simulate(E, variables={\"a\": -numpy.pi/2}, backend=\"cirq\", samples=1000)\n"
   ]
  },
  {
   "cell_type": "markdown",
   "metadata": {
    "slideshow": {
     "slide_type": "slide"
    }
   },
   "source": [
    "### Beyond Groundstates\n",
    "\n",
    "Overlap punishment:  \n",
    "\n",
    "$$ S^2\\left(\\phi, \\psi\\right)= \\lvert\\langle \\phi \\vert \\psi \\rangle\\rvert^2 =  \\langle Q_+ \\rangle_{U_\\phi^\\dagger U_{\\psi}} , \\quad Q_+ = \\lvert 00\\dots0 \\rangle\\langle 00\\dots0 \\lvert$$ "
   ]
  },
  {
   "cell_type": "code",
   "execution_count": 10,
   "metadata": {
    "slideshow": {
     "slide_type": "fragment"
    }
   },
   "outputs": [],
   "source": [
    "Uex = tq.gates.Ry(angle=\"b\", target=0)\n",
    "S2 = tq.ExpectationValue(H=tq.paulis.Qp(0), U=Uex+U.dagger())\n",
    "opt_gs = {\"a\":-0.5*numpy.pi}\n",
    "L = tq.ExpectationValue(H=H, U=Uex) + 10.0*S2"
   ]
  },
  {
   "cell_type": "code",
   "execution_count": 11,
   "metadata": {
    "slideshow": {
     "slide_type": "subslide"
    }
   },
   "outputs": [
    {
     "name": "stderr",
     "output_type": "stream",
     "text": [
      " /home/jsk/projects/OpenVQE/src/tequila/optimizers/optimizer_base.py:422: TequilaWarning:initial_variables given but not complete: Autocompleted with zeroes\n"
     ]
    },
    {
     "name": "stdout",
     "output_type": "stream",
     "text": [
      "Optimizer: <class 'tequila.optimizers.optimizer_scipy.OptimizerSciPy'> \n",
      "backend         : qulacs\n",
      "device          : None\n",
      "samples         : None\n",
      "save_history    : True\n",
      "noise           : None\n",
      "\n",
      "Method          : BFGS\n",
      "Objective       : 2 expectationvalues\n",
      "gradient        : 6 expectationvalues\n",
      "\n",
      "active variables : 1\n",
      "\n",
      "E=+5.49999475  angles= {b: 0.0, a: -1.5707973321904534}  samples= None\n",
      "E=+1.68925405  angles= {b: 1.01, a: -1.5707973321904534}  samples= None\n",
      "E=+1.75247025  angles= {b: 2.157473194149607, a: -1.5707973321904534}  samples= None\n",
      "E=+1.00000119  angles= {b: 1.5700696738344724, a: -1.5707973321904534}  samples= None\n",
      "E=+1.00000000  angles= {b: 1.5708347830881644, a: -1.5707973321904534}  samples= None\n",
      "Optimization terminated successfully.\n",
      "         Current function value: 1.000000\n",
      "         Iterations: 3\n",
      "         Function evaluations: 5\n",
      "         Gradient evaluations: 5\n"
     ]
    }
   ],
   "source": [
    "result_ex = tq.minimize(L, \n",
    "                        initial_values=opt_gs, \n",
    "                        variables=[\"b\"])"
   ]
  },
  {
   "cell_type": "markdown",
   "metadata": {
    "slideshow": {
     "slide_type": "slide"
    }
   },
   "source": [
    "<img src=\"pics/all_in_one_blackboard.png\" width=\"400px\">\n"
   ]
  },
  {
   "cell_type": "code",
   "execution_count": 12,
   "metadata": {
    "slideshow": {
     "slide_type": "fragment"
    }
   },
   "outputs": [],
   "source": [
    "a = tq.Variable(\"a\")\n",
    "angle = (-a**2).apply(tq.numpy.exp)\n",
    "U = tq.gates.Ry(angle=angle*numpy.pi, target=0)\n",
    "U += tq.gates.X(target=1, control=0)\n",
    "H = tq.QubitHamiltonian(\"-1.0X(0)X(1)+0.5Z(0)+Y(1)\")\n",
    "E = tq.ExpectationValue(H=H, U=U)\n",
    "dE = tq.grad(E, \"a\")\n",
    "objective = E + (-(dE**2)).apply(tq.numpy.exp)\n",
    "f = tq.compile(objective)"
   ]
  },
  {
   "cell_type": "code",
   "execution_count": 13,
   "metadata": {
    "scrolled": true,
    "slideshow": {
     "slide_type": "subslide"
    }
   },
   "outputs": [
    {
     "data": {
      "image/png": "[encoded data removed]",
      "text/plain": [
       "<Figure size 432x288 with 1 Axes>"
      ]
     },
     "metadata": {
      "needs_background": "light"
     },
     "output_type": "display_data"
    }
   ],
   "source": [
    "import matplotlib.pyplot as plt\n",
    "start=-2.0\n",
    "stop=2.0\n",
    "values = {}\n",
    "for value in [start + i/100*(stop-start) for i in range(100)]:\n",
    "    values[value] = f({\"a\":value})\n",
    "plt.plot(list(values.keys()), list(values.values()))\n",
    "plt.show()"
   ]
  },
  {
   "cell_type": "markdown",
   "metadata": {
    "slideshow": {
     "slide_type": "slide"
    }
   },
   "source": [
    "<img src=\"pics/nested_example.png\" width=\"800px\">"
   ]
  },
  {
   "cell_type": "code",
   "execution_count": 14,
   "metadata": {
    "slideshow": {
     "slide_type": "fragment"
    }
   },
   "outputs": [],
   "source": [
    "H =  tq.paulis.Sp(0)*tq.paulis.Sm(1)\n",
    "H += tq.paulis.Sm(0)*tq.paulis.Sp(1)\n",
    "U =  tq.gates.X(0)\n",
    "U += tq.gates.QubitExcitation(angle=f, target=[0,1])\n",
    "L2 = tq.ExpectationValue(H=H, U=U)**2\n",
    "f2 = tq.compile(L2)"
   ]
  },
  {
   "cell_type": "code",
   "execution_count": 15,
   "metadata": {
    "slideshow": {
     "slide_type": "subslide"
    }
   },
   "outputs": [
    {
     "data": {
      "image/png": "[encoded data removed]",
      "text/plain": [
       "<Figure size 432x288 with 1 Axes>"
      ]
     },
     "metadata": {
      "needs_background": "light"
     },
     "output_type": "display_data"
    }
   ],
   "source": [
    "import matplotlib.pyplot as plt\n",
    "start=-2.0\n",
    "stop=2.0\n",
    "steps=100\n",
    "values = {}\n",
    "for value in [start + i/steps*(stop-start) for i in range(steps)]:\n",
    "    values[value] = f2({\"a\":value})\n",
    "plt.plot(list(values.keys()), list(values.values()))\n",
    "plt.show()"
   ]
  },
  {
   "cell_type": "markdown",
   "metadata": {
    "slideshow": {
     "slide_type": "slide"
    }
   },
   "source": [
    "### Example: Meta-VQE  \n",
    "\n",
    "A. Cervera-Lierta, JSK, A. Aspuru-Guzik, [ArXiv:2009.13545](https://arxiv.org/abs/2009.13545)  \n",
    "\n",
    "Learn the relation of a parameters in the Hamiltonian and in the circuit  \n",
    "\n",
    "<img src=\"pics/meta_vqe_cartoon.png\" width=\"400px\">"
   ]
  },
  {
   "cell_type": "markdown",
   "metadata": {
    "slideshow": {
     "slide_type": "slide"
    }
   },
   "source": [
    "<img src=\"pics/meta_vqe_cartoon.png\" width=\"300px\">"
   ]
  },
  {
   "cell_type": "code",
   "execution_count": 16,
   "metadata": {
    "slideshow": {
     "slide_type": "fragment"
    }
   },
   "outputs": [],
   "source": [
    "def meta_angle(x):\n",
    "    a = tq.assign_variable(\"a\")\n",
    "    b = tq.assign_variable(\"b\")\n",
    "    return x*a-b\n",
    "\n",
    "def make_H(x):\n",
    "    return tq.paulis.X(0) + x*tq.paulis.Z(0)\n",
    "\n",
    "def make_U(angle):\n",
    "    angle = tq.assign_variable(angle)\n",
    "    return tq.gates.Ry(target=0, angle=angle*numpy.pi)"
   ]
  },
  {
   "cell_type": "markdown",
   "metadata": {
    "slideshow": {
     "slide_type": "slide"
    }
   },
   "source": [
    "### Training"
   ]
  },
  {
   "cell_type": "code",
   "execution_count": 17,
   "metadata": {
    "slideshow": {
     "slide_type": "fragment"
    }
   },
   "outputs": [],
   "source": [
    "training_points = [0.0, 0.5, 1.0]\n",
    "meta_objective = 0.0\n",
    "for x in training_points:\n",
    "    meta_objective += tq.ExpectationValue(H=make_H(x), U=make_U(meta_angle(x)))\n",
    "\n",
    "meta_objective = 1.0/len(training_points)*meta_objective"
   ]
  },
  {
   "cell_type": "code",
   "execution_count": 18,
   "metadata": {
    "slideshow": {
     "slide_type": "subslide"
    }
   },
   "outputs": [
    {
     "name": "stdout",
     "output_type": "stream",
     "text": [
      "Optimizer: <class 'tequila.optimizers.optimizer_scipy.OptimizerSciPy'> \n",
      "backend         : qulacs\n",
      "device          : None\n",
      "samples         : None\n",
      "save_history    : True\n",
      "noise           : None\n",
      "\n",
      "Method          : BFGS\n",
      "Objective       : 3 expectationvalues\n",
      "gradient        : 18 expectationvalues\n",
      "\n",
      "active variables : 2\n",
      "\n",
      "E=+0.50000000  angles= {a: 0.0, b: 0.0}  samples= None\n",
      "E=+0.03163936  angles= {a: -0.45168573145495755, b: 0.9033714629099151}  samples= None\n",
      "E=-1.10308790  angles= {a: -0.20895075848145425, b: 0.4179015169629085}  samples= None\n",
      "E=-0.60310841  angles= {a: -0.5721265537434792, b: 0.6376424028446308}  samples= None\n",
      "E=-1.17348516  angles= {a: -0.29224800825863895, b: 0.468300832380787}  samples= None\n",
      "E=-1.17658091  angles= {a: -0.23413025767017326, b: 0.518145642557484}  samples= None\n",
      "E=-1.17678094  angles= {a: -0.24759858034771412, b: 0.5085406576584631}  samples= None\n",
      "Optimization terminated successfully.\n",
      "         Current function value: -1.176781\n",
      "         Iterations: 4\n",
      "         Function evaluations: 7\n",
      "         Gradient evaluations: 7\n"
     ]
    }
   ],
   "source": [
    "meta_vqe_result = tq.minimize(meta_objective)"
   ]
  },
  {
   "cell_type": "markdown",
   "metadata": {
    "slideshow": {
     "slide_type": "slide"
    }
   },
   "source": [
    "### Testing"
   ]
  },
  {
   "cell_type": "code",
   "execution_count": 19,
   "metadata": {
    "slideshow": {
     "slide_type": "fragment"
    }
   },
   "outputs": [],
   "source": [
    "test_points=[0.0 + x/100 for x in range(100)]\n",
    "predicted_angles = {}\n",
    "opt_angles = {}\n",
    "for x in test_points:\n",
    "    predicted = meta_angle(x)(variables=meta_vqe_result.variables)\n",
    "    predicted_angles[x] = predicted\n",
    "    objective = tq.ExpectationValue(H=make_H(x), U=make_U(\"x\"))\n",
    "    opt = tq.minimize(objective, silent=True, initial_values=predicted)\n",
    "    opt_angles[x] = opt.variables[\"x\"]"
   ]
  },
  {
   "cell_type": "code",
   "execution_count": 20,
   "metadata": {
    "slideshow": {
     "slide_type": "subslide"
    }
   },
   "outputs": [
    {
     "data": {
      "image/png": "[encoded data removed]",
      "text/plain": [
       "<Figure size 432x288 with 1 Axes>"
      ]
     },
     "metadata": {
      "needs_background": "light"
     },
     "output_type": "display_data"
    }
   ],
   "source": [
    "plt.plot(list(predicted_angles.keys()), list(predicted_angles.values()), label=\"predicted\", marker=\"o\", markersize=5)\n",
    "plt.plot(list(opt_angles.keys()), list(opt_angles.values()), label=\"opt\", marker=\"x\", markersize=3)\n",
    "plt.legend()\n",
    "plt.show()"
   ]
  },
  {
   "cell_type": "code",
   "execution_count": 21,
   "metadata": {
    "slideshow": {
     "slide_type": "slide"
    }
   },
   "outputs": [],
   "source": [
    "def meta_angle(x):\n",
    "    a = tq.assign_variable(\"a\")\n",
    "    b = tq.assign_variable(\"b\")\n",
    "    c = tq.assign_variable(\"c\")\n",
    "    d = tq.assign_variable(\"d\")\n",
    "    return b*x**2 + c*x + d"
   ]
  },
  {
   "cell_type": "code",
   "execution_count": 22,
   "metadata": {
    "slideshow": {
     "slide_type": "skip"
    }
   },
   "outputs": [],
   "source": [
    "meta_objective = 0.0\n",
    "for x in training_points:\n",
    "    meta_objective += tq.ExpectationValue(H=make_H(x), U=make_U(meta_angle(x)))\n",
    "\n",
    "meta_objective = 1.0/len(training_points)*meta_objective\n",
    "meta_vqe_result = tq.minimize(meta_objective, initial_values=0.0, silent=True)\n",
    "\n",
    "predicted_angles = {}\n",
    "opt_angles = {}\n",
    "for x in test_points:\n",
    "    predicted = meta_angle(x)(variables=meta_vqe_result.variables)\n",
    "    predicted_angles[x] = predicted\n",
    "    objective = tq.ExpectationValue(H=make_H(x), U=make_U(\"x\"))\n",
    "    opt = tq.minimize(objective, silent=True, initial_values=predicted)\n",
    "    opt_angle = opt.variables[\"x\"] \n",
    "    opt_angles[x] = opt_angle"
   ]
  },
  {
   "cell_type": "code",
   "execution_count": 23,
   "metadata": {
    "slideshow": {
     "slide_type": "subslide"
    }
   },
   "outputs": [
    {
     "data": {
      "image/png": "[encoded data removed]",
      "text/plain": [
       "<Figure size 432x288 with 1 Axes>"
      ]
     },
     "metadata": {
      "needs_background": "light"
     },
     "output_type": "display_data"
    }
   ],
   "source": [
    "plt.figure()\n",
    "plt.plot(list(predicted_angles.keys()), list(predicted_angles.values()), label=\"predicted\", marker=\"o\", markersize=5)\n",
    "plt.plot(list(opt_angles.keys()), list(opt_angles.values()), label=\"opt\", marker=\"x\", markersize=3)\n",
    "plt.legend()\n",
    "plt.show()"
   ]
  },
  {
   "cell_type": "markdown",
   "metadata": {
    "slideshow": {
     "slide_type": "slide"
    }
   },
   "source": [
    "## Example: Quantum Chemistry\n",
    "\n",
    "<img src=\"pics/chemistry_overview.png\" width=\"500px\">"
   ]
  },
  {
   "cell_type": "markdown",
   "metadata": {
    "slideshow": {
     "slide_type": "slide"
    }
   },
   "source": [
    "### Dependencies\n",
    "\n",
    "- Basis set representation: Psi4  \n",
    "    `conda install psi4 -c psi4`\n",
    "- Basis-set-free: Madness  \n",
    "  follow instructions on this fork: \n",
    "  [github.com/kottmanj/madness](https://github.com/kottmanj/madness)  \n",
    "- Tutorials: [github.com/aspuru-guzik-group/tequila-tutorials](https://github.com/aspuru-guzik-group/tequila-tutorials)  "
   ]
  },
  {
   "cell_type": "code",
   "execution_count": 24,
   "metadata": {
    "slideshow": {
     "slide_type": "skip"
    }
   },
   "outputs": [],
   "source": [
    "if \"psi4\" not in tq.chemistry.INSTALLED_QCHEMISTRY_BACKENDS.keys():\n",
    "    raise Exception(\"Psi4 not found! Cells below won't evaluate, stopping notebook here.\")"
   ]
  },
  {
   "cell_type": "markdown",
   "metadata": {
    "slideshow": {
     "slide_type": "slide"
    }
   },
   "source": [
    "### Molecular Hamiltonian in Qubit Representation"
   ]
  },
  {
   "cell_type": "code",
   "execution_count": 25,
   "metadata": {
    "slideshow": {
     "slide_type": "fragment"
    }
   },
   "outputs": [],
   "source": [
    "geomstring = \"H 0.0 0.0 0.0\\nH 0.0 0.0 {R}\".format(R=0.7)\n",
    "mol = tq.Molecule(geometry=geomstring,basis_set=\"sto-3g\")\n",
    "H = mol.make_hamiltonian()"
   ]
  },
  {
   "cell_type": "code",
   "execution_count": 26,
   "metadata": {
    "slideshow": {
     "slide_type": "fragment"
    }
   },
   "outputs": [
    {
     "name": "stdout",
     "output_type": "stream",
     "text": [
      "-0.0421+0.1777Z(0)+0.1777Z(1)-0.2427Z(2)-0.2427Z(3)+0.1706Z(0)Z(1)+0.0448Y(0)X(1)X(2)Y(3)-0.0448Y(0)Y(1)X(2)X(3)-0.0448X(0)X(1)Y(2)Y(3)+0.0448X(0)Y(1)Y(2)X(3)+0.1229Z(0)Z(2)+0.1677Z(0)Z(3)+0.1677Z(1)Z(2)+0.1229Z(1)Z(3)+0.1763Z(2)Z(3)\n"
     ]
    }
   ],
   "source": [
    "print(H)"
   ]
  },
  {
   "cell_type": "markdown",
   "metadata": {
    "slideshow": {
     "slide_type": "slide"
    }
   },
   "source": [
    "### Hartree-Fock Reference State"
   ]
  },
  {
   "cell_type": "code",
   "execution_count": 27,
   "metadata": {
    "slideshow": {
     "slide_type": "fragment"
    }
   },
   "outputs": [
    {
     "name": "stdout",
     "output_type": "stream",
     "text": [
      "EHF = -1.11735\n"
     ]
    }
   ],
   "source": [
    "U = mol.prepare_reference()\n",
    "E = tq.ExpectationValue(H=H, U=U)\n",
    "hf_energy = tq.simulate(E)\n",
    "print(\"EHF = {:+2.5f}\".format(hf_energy))"
   ]
  },
  {
   "cell_type": "code",
   "execution_count": 28,
   "metadata": {
    "slideshow": {
     "slide_type": "fragment"
    }
   },
   "outputs": [
    {
     "name": "stdout",
     "output_type": "stream",
     "text": [
      "Objective with 1 unique expectation values\n",
      "total measurements = 15\n",
      "variables          = []\n",
      "types              = not compiled\n"
     ]
    }
   ],
   "source": [
    "print(E)"
   ]
  },
  {
   "cell_type": "code",
   "execution_count": 29,
   "metadata": {
    "slideshow": {
     "slide_type": "fragment"
    }
   },
   "outputs": [
    {
     "name": "stdout",
     "output_type": "stream",
     "text": [
      "Objective with 2 unique expectation values\n",
      "total measurements = 2\n",
      "variables          = []\n",
      "types              = [<class 'tequila.simulators.simulator_qiskit.BackendExpectationValueQiskit'>]\n"
     ]
    }
   ],
   "source": [
    "E = tq.ExpectationValue(H=H, U=U, optimize_measurements=True)\n",
    "print(tq.compile(E, backend=\"qiskit\"))"
   ]
  },
  {
   "cell_type": "code",
   "execution_count": 54,
   "metadata": {
    "slideshow": {
     "slide_type": "slide"
    }
   },
   "outputs": [
    {
     "name": "stdout",
     "output_type": "stream",
     "text": [
      "<class 'tequila.quantumchemistry.psi4_interface.QuantumChemistryPsi4'>\n",
      "Qubit Encoding\n",
      "transformation=<function bravyi_kitaev at 0x7f418cdffa70>\n",
      "\n",
      "Parameters\n",
      "basis_set       : sto-3g          \n",
      "geometry        : H 0.0 0.0 0.0\n",
      "Li 0.0 0.0 0.7 \n",
      "description     :                 \n",
      "multiplicity    : 1               \n",
      "charge          : 0               \n",
      "closed_shell    : True            \n",
      "name            : molecule        \n",
      "\n",
      "Psi4 Data\n",
      "Point Group (full) : c_inf_v         \n",
      "Point Group (used) : c2v             \n",
      "nirrep          : 4 \n",
      "irreps          : ['A1', 'A2', 'B1', 'B2'] \n",
      "mos per irrep   : [4, 0, 1, 1]    \n",
      "\n",
      "Orbitals:\n",
      "0 : 0A1 energy = -2.519793 \n",
      "1 : 1A1 energy = -0.296569 \n",
      "2 : 2A1 energy = +0.057778 \n",
      "3 : 0B1 energy = +0.139822 \n",
      "4 : 0B2 energy = +0.139822 \n",
      "5 : 3A1 energy = +0.599617 \n",
      "\n"
     ]
    }
   ],
   "source": [
    "geomstring = \"H 0.0 0.0 0.0\\nLi 0.0 0.0 {R}\".format(R=0.7)\n",
    "mol = tq.Molecule(geometry=geomstring, basis_set=\"sto-3g\",\n",
    "                  transformation=\"BravyiKitaev\")\n",
    "print(mol)"
   ]
  },
  {
   "cell_type": "markdown",
   "metadata": {
    "slideshow": {
     "slide_type": "slide"
    }
   },
   "source": [
    "### Active Spaces"
   ]
  },
  {
   "cell_type": "code",
   "execution_count": 31,
   "metadata": {},
   "outputs": [],
   "source": [
    "geomstring = \"H 0.0 0.0 0.0\\nLi 0.0 0.0 {R}\".format(R=0.7)\n",
    "active={\"A1\":[1,2]}\n",
    "mol = tq.Molecule(geometry=geomstring,\n",
    "                  basis_set=\"sto-3g\",\n",
    "                  active_orbitals=active)\n",
    "H = mol.make_hamiltonian()"
   ]
  },
  {
   "cell_type": "markdown",
   "metadata": {
    "slideshow": {
     "slide_type": "slide"
    }
   },
   "source": [
    "### Manually Construct an Ansatz"
   ]
  },
  {
   "cell_type": "code",
   "execution_count": 32,
   "metadata": {
    "slideshow": {
     "slide_type": "fragment"
    }
   },
   "outputs": [],
   "source": [
    "U = tq.gates.Ry(angle=\"a\", target=0)\n",
    "U += tq.gates.X(1)\n",
    "U += tq.gates.X(target=1, control=0)\n",
    "U += tq.gates.X(target=2, control=1)\n",
    "U += tq.gates.X(target=3, control=2)\n",
    "U += tq.gates.X(target=1)"
   ]
  },
  {
   "cell_type": "code",
   "execution_count": 33,
   "metadata": {
    "slideshow": {
     "slide_type": "fragment"
    }
   },
   "outputs": [
    {
     "data": {
      "image/png": "[encoded data removed]",
      "text/plain": [
       "<IPython.core.display.Image object>"
      ]
     },
     "metadata": {},
     "output_type": "display_data"
    }
   ],
   "source": [
    "tq.draw(U)"
   ]
  },
  {
   "cell_type": "markdown",
   "metadata": {
    "slideshow": {
     "slide_type": "slide"
    }
   },
   "source": [
    "### Optimize the Ansatz"
   ]
  },
  {
   "cell_type": "code",
   "execution_count": 34,
   "metadata": {
    "slideshow": {
     "slide_type": "fragment"
    }
   },
   "outputs": [
    {
     "name": "stdout",
     "output_type": "stream",
     "text": [
      "Optimizer: <class 'tequila.optimizers.optimizer_scipy.OptimizerSciPy'> \n",
      "backend         : qulacs\n",
      "device          : None\n",
      "samples         : None\n",
      "save_history    : True\n",
      "noise           : None\n",
      "\n",
      "Method          : BFGS\n",
      "Objective       : 1 expectationvalues\n",
      "gradient        : 2 expectationvalues\n",
      "\n",
      "active variables : 1\n",
      "\n",
      "E=-6.95631152  angles= {a: 0.0}  samples= None\n",
      "E=-6.95641192  angles= {a: -0.009415864944458008}  samples= None\n",
      "E=-6.95704807  angles= {a: -0.04707932472229004}  samples= None\n",
      "E=-6.96332136  angles= {a: -0.19773316383361816}  samples= None\n",
      "E=-7.04345170  angles= {a: -0.8003485202789307}  samples= None\n",
      "E=-7.48465953  angles= {a: -3.2108099460601807}  samples= None\n",
      "E=-7.48119139  angles= {a: -2.913032986993547}  samples= None\n",
      "E=-7.48611221  angles= {a: -3.106200173015701}  samples= None\n",
      "Optimization terminated successfully.\n",
      "         Current function value: -7.486112\n",
      "         Iterations: 1\n",
      "         Function evaluations: 8\n",
      "         Gradient evaluations: 8\n"
     ]
    }
   ],
   "source": [
    "E = tq.ExpectationValue(H=H, U=U)\n",
    "result = tq.minimize(E)\n",
    "energy_np = numpy.linalg.eigvalsh(H.to_matrix())[0]\n",
    "energy_fci = mol.compute_energy(\"fci\")"
   ]
  },
  {
   "cell_type": "code",
   "execution_count": 35,
   "metadata": {
    "slideshow": {
     "slide_type": "subslide"
    }
   },
   "outputs": [
    {
     "name": "stdout",
     "output_type": "stream",
     "text": [
      "VQE   = -7.48611\n",
      "FCI   = -7.48612\n",
      "Numpy = -7.48612\n"
     ]
    }
   ],
   "source": [
    "print(\"VQE   = {:2.5f}\".format(result.energy))\n",
    "print(\"FCI   = {:2.5f}\".format(energy_fci))\n",
    "print(\"Numpy = {:2.5f}\".format(energy_np))"
   ]
  },
  {
   "cell_type": "markdown",
   "metadata": {
    "slideshow": {
     "slide_type": "slide"
    }
   },
   "source": [
    "### Manually construct an UCC ansatz\n",
    "\n",
    "<img src=\"pics/ucc.png\" width=\"700px\">\n"
   ]
  },
  {
   "cell_type": "code",
   "execution_count": 36,
   "metadata": {
    "slideshow": {
     "slide_type": "fragment"
    }
   },
   "outputs": [],
   "source": [
    "G0213 = mol.make_excitation_generator(indices=[(0,2),(1,3)])\n",
    "Uex = tq.gates.Trotterized(generator=G0213, angle=\"a\")\n",
    "U = mol.prepare_reference() + Uex"
   ]
  },
  {
   "cell_type": "code",
   "execution_count": 37,
   "metadata": {
    "slideshow": {
     "slide_type": "subslide"
    }
   },
   "outputs": [
    {
     "data": {
      "image/png": "[encoded data removed]",
      "text/plain": [
       "<IPython.core.display.Image object>"
      ]
     },
     "metadata": {},
     "output_type": "display_data"
    }
   ],
   "source": [
    "tq.draw(U)"
   ]
  },
  {
   "cell_type": "code",
   "execution_count": 38,
   "metadata": {
    "slideshow": {
     "slide_type": "subslide"
    }
   },
   "outputs": [
    {
     "name": "stdout",
     "output_type": "stream",
     "text": [
      "Optimizer: <class 'tequila.optimizers.optimizer_scipy.OptimizerSciPy'> \n",
      "backend         : qulacs\n",
      "device          : None\n",
      "samples         : None\n",
      "save_history    : True\n",
      "noise           : None\n",
      "\n",
      "Method          : BFGS\n",
      "Objective       : 1 expectationvalues\n",
      "gradient        : 16 expectationvalues\n",
      "\n",
      "active variables : 1\n",
      "\n",
      "E=-7.48594487  angles= {a: 0.0}  samples= None\n",
      "E=-7.48602179  angles= {a: 0.009415864944458008}  samples= None\n",
      "E=-7.48611042  angles= {a: 0.031862458915351874}  samples= None\n",
      "Optimization terminated successfully.\n",
      "         Current function value: -7.486110\n",
      "         Iterations: 2\n",
      "         Function evaluations: 3\n",
      "         Gradient evaluations: 3\n"
     ]
    }
   ],
   "source": [
    "E = tq.ExpectationValue(H=H, U=U)\n",
    "result = tq.minimize(E)"
   ]
  },
  {
   "cell_type": "markdown",
   "metadata": {
    "slideshow": {
     "slide_type": "slide"
    }
   },
   "source": [
    "### Gradient Aware Construction"
   ]
  },
  {
   "cell_type": "markdown",
   "metadata": {
    "slideshow": {
     "slide_type": "fragment"
    }
   },
   "source": [
    "<img src=\"pics/gradient_fast_2.png\" width=\"800px\">"
   ]
  },
  {
   "cell_type": "code",
   "execution_count": 39,
   "metadata": {
    "slideshow": {
     "slide_type": "fragment"
    }
   },
   "outputs": [],
   "source": [
    "Uex = mol.make_excitation_gate([(0,2),(1,3)], \"a\")\n",
    "U = mol.prepare_reference() + Uex\n",
    "E = tq.ExpectationValue(H=H, U=U)"
   ]
  },
  {
   "cell_type": "code",
   "execution_count": 40,
   "metadata": {
    "slideshow": {
     "slide_type": "subslide"
    }
   },
   "outputs": [
    {
     "name": "stdout",
     "output_type": "stream",
     "text": [
      "Optimizer: <class 'tequila.optimizers.optimizer_scipy.OptimizerSciPy'> \n",
      "backend         : qulacs\n",
      "device          : None\n",
      "samples         : None\n",
      "save_history    : True\n",
      "noise           : None\n",
      "\n",
      "Method          : BFGS\n",
      "Objective       : 1 expectationvalues\n",
      "gradient        : 2 expectationvalues\n",
      "\n",
      "active variables : 1\n",
      "\n",
      "E=-7.48594487  angles= {a: 0.0}  samples= None\n",
      "E=-7.48602179  angles= {a: 0.009415864944458008}  samples= None\n",
      "E=-7.48611042  angles= {a: 0.031862458915351874}  samples= None\n",
      "Optimization terminated successfully.\n",
      "         Current function value: -7.486110\n",
      "         Iterations: 2\n",
      "         Function evaluations: 3\n",
      "         Gradient evaluations: 3\n"
     ]
    }
   ],
   "source": [
    "result = tq.minimize(E)"
   ]
  },
  {
   "cell_type": "code",
   "execution_count": 6,
   "metadata": {
    "scrolled": true,
    "slideshow": {
     "slide_type": "skip"
    }
   },
   "outputs": [],
   "source": [
    "madness_exe = tq.chemistry.QuantumChemistryMadness.find_executable(madness_root_dir=\"/home/jsk/devel/madness/build-opt/\")\n",
    "if madness_exe is None:\n",
    "    raise Exception(\"Madness not found! Stopping notebook, cells below will not evaluate. Follow instructions in the readme here: https://github.com/kottmanj/madness\")"
   ]
  },
  {
   "cell_type": "markdown",
   "metadata": {
    "slideshow": {
     "slide_type": "slide"
    }
   },
   "source": [
    "### Quantum Chemistry: Constructing the Hamiltonian\n",
    "<img src=\"pics/discretization.png\" width=\"400px\">"
   ]
  },
  {
   "cell_type": "markdown",
   "metadata": {
    "slideshow": {
     "slide_type": "slide"
    }
   },
   "source": [
    "<img src=\"pics/basis-set-comic.png\" width=\"500px\">"
   ]
  },
  {
   "cell_type": "markdown",
   "metadata": {
    "slideshow": {
     "slide_type": "fragment"
    }
   },
   "source": [
    "- Well developed classical machinery\n",
    "- Unknown numerical error\n",
    "- Accurate results require large basis sets\n",
    "- High level of expertise required from the user"
   ]
  },
  {
   "cell_type": "markdown",
   "metadata": {
    "slideshow": {
     "slide_type": "slide"
    }
   },
   "source": [
    "<img src=\"pics/basis_sets_and_methods.png\" width=\"1000px\">"
   ]
  },
  {
   "cell_type": "code",
   "execution_count": 42,
   "metadata": {
    "slideshow": {
     "slide_type": "fragment"
    }
   },
   "outputs": [
    {
     "name": "stdout",
     "output_type": "stream",
     "text": [
      "38\n"
     ]
    }
   ],
   "source": [
    "mol = tq.Molecule(geometry=geomstring, basis_set=\"cc-pVDZ\")\n",
    "print(mol.make_hamiltonian().n_qubits)"
   ]
  },
  {
   "cell_type": "markdown",
   "metadata": {
    "slideshow": {
     "slide_type": "slide"
    }
   },
   "source": [
    "<img src=\"pics/mra-orbital-determination.png\" width=\"500px\">"
   ]
  },
  {
   "cell_type": "markdown",
   "metadata": {},
   "source": [
    "- Basis-set-free\n",
    "- Physically interpretable limitations\n",
    "- Compact (save qubits)\n",
    "- Natural order on orbitals\n",
    "- Low level of expertise required from user"
   ]
  },
  {
   "cell_type": "markdown",
   "metadata": {
    "slideshow": {
     "slide_type": "slide"
    }
   },
   "source": [
    "<img src=\"pics/basis_set_free_performance.png\" width=\"1000px\">"
   ]
  },
  {
   "cell_type": "markdown",
   "metadata": {
    "slideshow": {
     "slide_type": "slide"
    }
   },
   "source": [
    "### More \n",
    "\n",
    "Basis-set-Free VQE:  \n",
    "JSK, P. Schleich, T. Tamayo-Mendoza, A. Aspuru-Guzik [doi.org/10.1021/acs.jpclett.0c03410](https://doi.org/10.1021/acs.jpclett.0c03410) \n",
    "\n",
    "Surrogate Model (PNO-MP2):  \n",
    "JSK, F. A. Bischoff, E. F. Valeev [doi.org/10.1063/1.5141880](https://doi.org/10.1063/1.5141880)  \n",
    "\n",
    "Tequila backend: Madness  \n",
    "R.J. Harrison *et.al.* [doi.org/10.1137/15M1026171](https://doi.org/10.1137/15M1026171)\n",
    "\n",
    "MRA basics:  \n",
    "[doi.org/10.18452/19357](https://doi.org/10.18452/19357) (Chapter 2)    \n",
    "  \n",
    "Review on classical applications:   \n",
    "F.A. Bischoff, [doi.org/10.1016/bs.aiq.2019.04.003](https://doi.org/10.1016/bs.aiq.2019.04.003)"
   ]
  },
  {
   "cell_type": "code",
   "execution_count": 7,
   "metadata": {
    "slideshow": {
     "slide_type": "slide"
    }
   },
   "outputs": [],
   "source": [
    "mol = tq.Molecule(geometry=\"Li 0.0 0.0 0.0\\nH 0.0 0.0 1.6\", \n",
    "                  n_pno=4,\n",
    "                  executable=madness_exe,\n",
    "                  name=\"lih_1.6\")\n",
    "H = mol.make_hamiltonian()\n",
    "U = mol.make_pno_upccgsd_ansatz(include_singles=False)\n",
    "E = tq.ExpectationValue(H=H, U=U)"
   ]
  },
  {
   "cell_type": "code",
   "execution_count": 8,
   "metadata": {
    "slideshow": {
     "slide_type": "subslide"
    }
   },
   "outputs": [
    {
     "name": "stdout",
     "output_type": "stream",
     "text": [
      "<class 'tequila.quantumchemistry.madness_interface.QuantumChemistryMadness'>\n",
      "Qubit Encoding\n",
      "transformation=<function jordan_wigner at 0x7f90eb2efa70>\n",
      "\n",
      "Parameters\n",
      "basis_set       : custom          \n",
      "geometry        : Li 0.0 0.0 0.0\n",
      "H 0.0 0.0 1.6 \n",
      "description     :                 \n",
      "multiplicity    : 1               \n",
      "charge          : 0               \n",
      "closed_shell    : True            \n",
      "name            : lih_1.6         \n",
      "\n",
      "MRA Orbitals    :\n",
      "orbital 0, occupied reference orbital (0,), energy -2.44107 \n",
      "orbital 1, occupied reference orbital (1,), energy -0.305942 \n",
      "orbital 2, pno from pair (1, 1), MP2 occ 0.0113194 \n",
      "orbital 3, pno from pair (1, 1), MP2 occ 0.00479669 \n",
      "orbital 4, pno from pair (1, 1), MP2 occ 0.00479458 \n",
      "orbital 5, pno from pair (1, 1), MP2 occ 0.00419803 \n",
      "\n",
      "executable      : /home/jsk/devel/madness/build-opt//src/apps/pno/pno_integrals\n",
      "htensor         : lih_1.6_htensor.npy\n",
      "gtensor         : lih_1.6_gtensor.npy\n",
      "\n"
     ]
    }
   ],
   "source": [
    "print(mol)"
   ]
  },
  {
   "cell_type": "code",
   "execution_count": 75,
   "metadata": {
    "slideshow": {
     "slide_type": "subslide"
    }
   },
   "outputs": [
    {
     "name": "stdout",
     "output_type": "stream",
     "text": [
      "Optimizer: <class 'tequila.optimizers.optimizer_scipy.OptimizerSciPy'> \n",
      "backend         : qulacs\n",
      "device          : None\n",
      "samples         : None\n",
      "save_history    : True\n",
      "noise           : None\n",
      "\n",
      "Method          : BFGS\n",
      "Objective       : 1 expectationvalues\n",
      "gradient        : 8 expectationvalues\n",
      "\n",
      "active variables : 4\n",
      "\n",
      "E=-7.98721057  angles= {(0, ((2, 4), (3, 5)), None): 0.0, (0, ((2, 6), (3, 7)), None): 0.0, (0, ((2, 8), (3, 9)), None): 0.0, (0, ((2, 10), (3, 11)), None): 0.0}  samples= None\n",
      "E=-8.01593186  angles= {(0, ((2, 4), (3, 5)), None): 0.12768793106079102, (0, ((2, 6), (3, 7)), None): 0.09198546409606934, (0, ((2, 8), (3, 9)), None): 0.09202122688293457, (0, ((2, 10), (3, 11)), None): 0.09455657005310059}  samples= None\n",
      "E=-8.02032262  angles= {(0, ((2, 4), (3, 5)), None): 0.21350067509853055, (0, ((2, 6), (3, 7)), None): 0.14165840203560198, (0, ((2, 8), (3, 9)), None): 0.14177428603515832, (0, ((2, 10), (3, 11)), None): 0.13429117589170406}  samples= None\n",
      "E=-8.02036286  angles= {(0, ((2, 4), (3, 5)), None): 0.2187140711919535, (0, ((2, 6), (3, 7)), None): 0.14006640996346112, (0, ((2, 8), (3, 9)), None): 0.1402723816504262, (0, ((2, 10), (3, 11)), None): 0.12927082915985516}  samples= None\n",
      "E=-8.02037080  angles= {(0, ((2, 4), (3, 5)), None): 0.22235015051312715, (0, ((2, 6), (3, 7)), None): 0.13869881217448576, (0, ((2, 8), (3, 9)), None): 0.13896068272518608, (0, ((2, 10), (3, 11)), None): 0.12618000883095457}  samples= None\n",
      "Optimization terminated successfully.\n",
      "         Current function value: -8.020371\n",
      "         Iterations: 4\n",
      "         Function evaluations: 5\n",
      "         Gradient evaluations: 5\n",
      "final energy = -8.02037\n"
     ]
    }
   ],
   "source": [
    "result = tq.minimize(E)"
   ]
  },
  {
   "cell_type": "markdown",
   "metadata": {
    "slideshow": {
     "slide_type": "slide"
    }
   },
   "source": [
    "### Example: Adaptive Solvers\n",
    "\n",
    "<img src=\"pics/adaptive_algorithms_cartoon.png\" width=\"400px\">\n",
    "\n",
    "Original approaches:  \n",
    "Ryabynkin, Yen, Genin, Izmaylov, [doi.org/10.1021/acs.jctc.8b00932](https://doi.org/10.1021/acs.jctc.8b00932)  \n",
    "Grimsley, Economou, Barnes, Mayhall [doi.org/10.1038/s41467-019-10988-2](https://doi.org/10.1038/s41467-019-10988-2)  "
   ]
  },
  {
   "cell_type": "markdown",
   "metadata": {
    "slideshow": {
     "slide_type": "slide"
    }
   },
   "source": [
    "### Example: Adaptive Solvers\n",
    "\n",
    "<img src=\"pics/adaptive_general_wbg.png\" width=\"400px\">\n",
    "\n",
    "Tequila implementation:  \n",
    "JSK, Anand, Aspuru-Guzik. [doi.org/10.1039/D0SC06627C](https://doi.org/10.1039/D0SC06627C)\n",
    "\n",
    "More examples on [github](https://github.com/aspuru-guzik-group/tequila-tutorials/blob/main/AdaptiveSolver.ipynb)"
   ]
  },
  {
   "cell_type": "code",
   "execution_count": 9,
   "metadata": {
    "slideshow": {
     "slide_type": "subslide"
    }
   },
   "outputs": [
    {
     "name": "stderr",
     "output_type": "stream",
     "text": [
      "WARNING:absl:No GPU/TPU found, falling back to CPU. (Set TF_CPP_MIN_LOG_LEVEL=0 and rerun for more info.)\n"
     ]
    },
    {
     "name": "stdout",
     "output_type": "stream",
     "text": [
      "Starting Adaptive Solver\n",
      "optimizer_args                 : {'method': 'bfgs'}\n",
      "compile_args                   : {}\n",
      "maxiter                        : 100\n",
      "energy_convergence             : None\n",
      "gradient_convergence           : 0.01\n",
      "max_gradient_convergence       : 0.0\n",
      "degeneracy_threshold           : 0.0001\n",
      "operator pool:                 : MolecularPool with 45 Generators\n",
      "objective factory :            : ObjectiveFactoryBase\n",
      "\n",
      "Optimizer: <class 'tequila.optimizers.optimizer_scipy.OptimizerSciPy'> \n",
      "backend         : qulacs\n",
      "device          : None\n",
      "samples         : None\n",
      "save_history    : True\n",
      "noise           : None\n",
      "\n",
      "Method          : BFGS\n",
      "Objective       : 1 expectationvalues\n",
      "gradient        : 2 expectationvalues\n",
      "\n",
      "active variables : 1\n",
      "\n",
      "E=-7.98721057  angles= {(((2, 4), (3, 5)), (0, 0)): 0.0}  samples= None\n",
      "E=-7.99916644  angles= {(((2, 4), (3, 5)), (0, 0)): 0.12768793106079102}  samples= None\n",
      "E=-8.00241089  angles= {(((2, 4), (3, 5)), (0, 0)): 0.23849312692390365}  samples= None\n",
      "Optimization terminated successfully.\n",
      "         Current function value: -8.002411\n",
      "         Iterations: 2\n",
      "         Function evaluations: 3\n",
      "         Gradient evaluations: 3\n",
      "-------------------------------------\n",
      "Finished iteration 0\n",
      "current energy : -8.00241089\n",
      "difference     : +8.00241089\n",
      "grad_norm      : +0.20602156\n",
      "max_grad       : +0.12768793\n",
      "circuit size   : 1\n",
      "Optimizer: <class 'tequila.optimizers.optimizer_scipy.OptimizerSciPy'> \n",
      "backend         : qulacs\n",
      "device          : None\n",
      "samples         : None\n",
      "save_history    : True\n",
      "noise           : None\n",
      "\n",
      "Method          : BFGS\n",
      "Objective       : 1 expectationvalues\n",
      "gradient        : 4 expectationvalues\n",
      "\n",
      "active variables : 2\n",
      "\n",
      "E=-8.00241089  angles= {(((2, 4), (3, 5)), (0, 0)): 0.23849312692390365, (((2, 10), (3, 11)), (1, 0)): 0.0}  samples= None\n",
      "E=-8.00780753  angles= {(((2, 4), (3, 5)), (0, 0)): 0.23767010598884505, (((2, 10), (3, 11)), (1, 0)): 0.09035181999206543}  samples= None\n",
      "E=-8.00843062  angles= {(((2, 4), (3, 5)), (0, 0)): 0.2343611910637476, (((2, 10), (3, 11)), (1, 0)): 0.13314953400528567}  samples= None\n",
      "E=-8.00843164  angles= {(((2, 4), (3, 5)), (0, 0)): 0.23318258339429312, (((2, 10), (3, 11)), (1, 0)): 0.13302324668499999}  samples= None\n",
      "Optimization terminated successfully.\n",
      "         Current function value: -8.008432\n",
      "         Iterations: 3\n",
      "         Function evaluations: 4\n",
      "         Gradient evaluations: 4\n",
      "-------------------------------------\n",
      "Finished iteration 1\n",
      "current energy : -8.00843164\n",
      "difference     : +0.00602075\n",
      "grad_norm      : +0.15554684\n",
      "max_grad       : +0.09035182\n",
      "circuit size   : 2\n",
      "Optimizer: <class 'tequila.optimizers.optimizer_scipy.OptimizerSciPy'> \n",
      "backend         : qulacs\n",
      "device          : None\n",
      "samples         : None\n",
      "save_history    : True\n",
      "noise           : None\n",
      "\n",
      "Method          : BFGS\n",
      "Objective       : 1 expectationvalues\n",
      "gradient        : 6 expectationvalues\n",
      "\n",
      "active variables : 3\n",
      "\n",
      "E=-8.00843164  angles= {(((2, 4), (3, 5)), (0, 0)): 0.23318258339429312, (((2, 10), (3, 11)), (1, 0)): 0.13302324668499999, (((2, 8), (3, 9)), (2, 0)): 0.0}  samples= None\n",
      "E=-8.01356580  angles= {(((2, 4), (3, 5)), (0, 0)): 0.23264709526563102, (((2, 10), (3, 11)), (1, 0)): 0.1329805697593408, (((2, 8), (3, 9)), (2, 0)): 0.08562302589416504}  samples= None\n",
      "E=-8.01454673  angles= {(((2, 4), (3, 5)), (0, 0)): 0.2292548691773303, (((2, 10), (3, 11)), (1, 0)): 0.13026296777047125, (((2, 8), (3, 9)), (2, 0)): 0.14278973206021528}  samples= None\n",
      "E=-8.01454807  angles= {(((2, 4), (3, 5)), (0, 0)): 0.2280944915498197, (((2, 10), (3, 11)), (1, 0)): 0.12953777365689514, (((2, 8), (3, 9)), (2, 0)): 0.14257096693112328}  samples= None\n",
      "Optimization terminated successfully.\n",
      "         Current function value: -8.014548\n",
      "         Iterations: 3\n",
      "         Function evaluations: 4\n",
      "         Gradient evaluations: 4\n",
      "-------------------------------------\n",
      "Finished iteration 2\n",
      "current energy : -8.01454807\n",
      "difference     : +0.00611643\n",
      "grad_norm      : +0.12348381\n",
      "max_grad       : +0.08562303\n",
      "circuit size   : 3\n",
      "Optimizer: <class 'tequila.optimizers.optimizer_scipy.OptimizerSciPy'> \n",
      "backend         : qulacs\n",
      "device          : None\n",
      "samples         : None\n",
      "save_history    : True\n",
      "noise           : None\n",
      "\n",
      "Method          : BFGS\n",
      "Objective       : 1 expectationvalues\n",
      "gradient        : 8 expectationvalues\n",
      "\n",
      "active variables : 4\n",
      "\n",
      "E=-8.01454807  angles= {(((2, 4), (3, 5)), (0, 0)): 0.2280944915498197, (((2, 10), (3, 11)), (1, 0)): 0.12953777365689514, (((2, 8), (3, 9)), (2, 0)): 0.14257096693112328, (((2, 6), (3, 7)), (3, 0)): 0.0}  samples= None\n",
      "E=-8.01943093  angles= {(((2, 4), (3, 5)), (0, 0)): 0.22757950741896033, (((2, 10), (3, 11)), (1, 0)): 0.12932677321439026, (((2, 8), (3, 9)), (2, 0)): 0.1425290052612014, (((2, 6), (3, 7)), (3, 0)): 0.08349323272705078}  samples= None\n",
      "E=-8.02036901  angles= {(((2, 4), (3, 5)), (0, 0)): 0.22433865810968726, (((2, 10), (3, 11)), (1, 0)): 0.12662560462330566, (((2, 8), (3, 9)), (2, 0)): 0.13998966028679324, (((2, 6), (3, 7)), (3, 0)): 0.13936573373473318}  samples= None\n",
      "E=-8.02037057  angles= {(((2, 4), (3, 5)), (0, 0)): 0.22327154777341038, (((2, 10), (3, 11)), (1, 0)): 0.12598020594558565, (((2, 8), (3, 9)), (2, 0)): 0.13917604934964553, (((2, 6), (3, 7)), (3, 0)): 0.13917959113862152}  samples= None\n",
      "Optimization terminated successfully.\n",
      "         Current function value: -8.020371\n",
      "         Iterations: 3\n",
      "         Function evaluations: 4\n",
      "         Gradient evaluations: 4\n",
      "-------------------------------------\n",
      "Finished iteration 3\n",
      "current energy : -8.02037057\n",
      "difference     : +0.00582249\n",
      "grad_norm      : +0.08640215\n",
      "max_grad       : +0.08349323\n",
      "circuit size   : 4\n",
      "Optimizer: <class 'tequila.optimizers.optimizer_scipy.OptimizerSciPy'> \n",
      "backend         : qulacs\n",
      "device          : None\n",
      "samples         : None\n",
      "save_history    : True\n",
      "noise           : None\n",
      "\n",
      "Method          : BFGS\n",
      "Objective       : 1 expectationvalues\n",
      "gradient        : 10 expectationvalues\n",
      "\n",
      "active variables : 5\n",
      "\n",
      "E=-8.02037057  angles= {(((2, 4), (3, 5)), (0, 0)): 0.22327154777341038, (((2, 10), (3, 11)), (1, 0)): 0.12598020594558565, (((2, 8), (3, 9)), (2, 0)): 0.13917604934964553, (((2, 6), (3, 7)), (3, 0)): 0.13917959113862152, (((0, 10), (1, 11)), (4, 0)): 0.0}  samples= None\n",
      "E=-8.02020028  angles= {(((2, 4), (3, 5)), (0, 0)): 0.2228154530315891, (((2, 10), (3, 11)), (1, 0)): 0.12580949824294893, (((2, 8), (3, 9)), (2, 0)): 0.13888398659024612, (((2, 6), (3, 7)), (3, 0)): 0.1391295232370102, (((0, 10), (1, 11)), (4, 0)): 0.015167236328125}  samples= None\n",
      "E=-8.02040368  angles= {(((2, 4), (3, 5)), (0, 0)): 0.2231404248933198, (((2, 10), (3, 11)), (1, 0)): 0.12593112911226373, (((2, 8), (3, 9)), (2, 0)): 0.13909208409710452, (((2, 6), (3, 7)), (3, 0)): 0.1391651970953288, (((0, 10), (1, 11)), (4, 0)): 0.0043604355148156165}  samples= None\n",
      "Optimization terminated successfully.\n",
      "         Current function value: -8.020404\n",
      "         Iterations: 1\n",
      "         Function evaluations: 3\n",
      "         Gradient evaluations: 3\n",
      "-------------------------------------\n",
      "Finished iteration 4\n",
      "current energy : -8.02040368\n",
      "difference     : +0.00003312\n",
      "grad_norm      : +0.01873558\n",
      "max_grad       : +0.01516724\n",
      "circuit size   : 5\n",
      "detected degeneracies: increasing batch size temporarily from 1 to 2\n",
      "Optimizer: <class 'tequila.optimizers.optimizer_scipy.OptimizerSciPy'> \n",
      "backend         : qulacs\n",
      "device          : None\n",
      "samples         : None\n",
      "save_history    : True\n",
      "noise           : None\n",
      "\n",
      "Method          : BFGS\n",
      "Objective       : 1 expectationvalues\n",
      "gradient        : 14 expectationvalues\n",
      "\n",
      "active variables : 7\n",
      "\n",
      "E=-8.02040368  angles= {(((2, 4), (3, 5)), (0, 0)): 0.2231404248933198, (((2, 10), (3, 11)), (1, 0)): 0.12593112911226373, (((2, 8), (3, 9)), (2, 0)): 0.13909208409710452, (((2, 6), (3, 7)), (3, 0)): 0.1391651970953288, (((0, 10), (1, 11)), (4, 0)): 0.0043604355148156165, (((2, 4),), (5, 0)): 0.0, (((3, 5),), (5, 0)): 0.0}  samples= None\n",
      "E=-8.02045662  angles= {(((2, 4), (3, 5)), (0, 0)): 0.22275990884107372, (((2, 10), (3, 11)), (1, 0)): 0.1257902237320147, (((2, 8), (3, 9)), (2, 0)): 0.13885461919231937, (((2, 6), (3, 7)), (3, 0)): 0.13912871905272625, (((0, 10), (1, 11)), (4, 0)): 0.0043430309585412025, (((2, 4),), (5, 0)): -0.005755186080932617, (((3, 5),), (5, 0)): -0.005755186080932617}  samples= None\n"
     ]
    },
    {
     "name": "stdout",
     "output_type": "stream",
     "text": [
      "E=-8.02048573  angles= {(((2, 4), (3, 5)), (0, 0)): 0.22283865865781968, (((2, 10), (3, 11)), (1, 0)): 0.1259990399483573, (((2, 8), (3, 9)), (2, 0)): 0.1387374575540267, (((2, 6), (3, 7)), (3, 0)): 0.13921443619448012, (((0, 10), (1, 11)), (4, 0)): 0.004438309189553299, (((2, 4),), (5, 0)): -0.014225118429425795, (((3, 5),), (5, 0)): -0.014225118429425795}  samples= None\n",
      "Optimization terminated successfully.\n",
      "         Current function value: -8.020486\n",
      "         Iterations: 2\n",
      "         Function evaluations: 3\n",
      "         Gradient evaluations: 3\n",
      "-------------------------------------\n",
      "Finished iteration 5\n",
      "current energy : -8.02048573\n",
      "difference     : +0.00008205\n",
      "grad_norm      : +0.01079170\n",
      "max_grad       : +0.00575519\n",
      "circuit size   : 7\n",
      "pool gradient norm is +0.00711192, convergence criterion met\n"
     ]
    }
   ],
   "source": [
    "operator_pool = tq.apps.adapt.MolecularPool(molecule=mol, \n",
    "                                            indices=\"UpCCGSD\")\n",
    "solver = tq.apps.adapt.Adapt(operator_pool=operator_pool, \n",
    "                             H=mol.make_hamiltonian(), \n",
    "                             Upre=mol.prepare_reference())\n",
    "result = solver()"
   ]
  },
  {
   "cell_type": "markdown",
   "metadata": {
    "slideshow": {
     "slide_type": "slide"
    }
   },
   "source": [
    "### Example: Molecular Meta-VQE\n"
   ]
  },
  {
   "cell_type": "code",
   "execution_count": 47,
   "metadata": {
    "slideshow": {
     "slide_type": "fragment"
    }
   },
   "outputs": [],
   "source": [
    "def meta_angle(R):\n",
    "    a = tq.assign_variable(\"a\")\n",
    "    b = tq.assign_variable(\"b\")\n",
    "    c = tq.assign_variable(\"c\")\n",
    "    d = tq.assign_variable(\"d\")\n",
    "    return a*(-(b*R-c)**2).apply(tq.numpy.exp) + d\n",
    "    \n",
    "def make_U(mol, angle):\n",
    "    U = mol.prepare_reference()\n",
    "    U += mol.make_excitation_gate([(0,2),(1,3)], angle)\n",
    "    return U"
   ]
  },
  {
   "cell_type": "code",
   "execution_count": 48,
   "metadata": {
    "slideshow": {
     "slide_type": "subslide"
    }
   },
   "outputs": [
    {
     "name": "stdout",
     "output_type": "stream",
     "text": [
      "Starting madness calculation with executable:  /home/jsk/devel/madness/build-opt//src/apps/pno/pno_integrals\n",
      "output redirected to H2_R_0.5000_pno_integrals.out logfile\n",
      "finished after 15.370546817779541s\n",
      "Starting madness calculation with executable:  /home/jsk/devel/madness/build-opt//src/apps/pno/pno_integrals\n",
      "output redirected to H2_R_1.0000_pno_integrals.out logfile\n",
      "finished after 14.80038332939148s\n",
      "Starting madness calculation with executable:  /home/jsk/devel/madness/build-opt//src/apps/pno/pno_integrals\n",
      "output redirected to H2_R_1.5000_pno_integrals.out logfile\n",
      "finished after 15.434062242507935s\n",
      "Starting madness calculation with executable:  /home/jsk/devel/madness/build-opt//src/apps/pno/pno_integrals\n",
      "output redirected to H2_R_3.0000_pno_integrals.out logfile\n",
      "finished after 17.48304271697998s\n"
     ]
    },
    {
     "name": "stderr",
     "output_type": "stream",
     "text": [
      " /home/jsk/projects/OpenVQE/src/tequila/optimizers/optimizer_base.py:422: TequilaWarning:initial_variables given but not complete: Autocompleted with zeroes\n"
     ]
    },
    {
     "name": "stdout",
     "output_type": "stream",
     "text": [
      "Optimizer: <class 'tequila.optimizers.optimizer_scipy.OptimizerSciPy'> \n",
      "backend         : qulacs\n",
      "device          : None\n",
      "samples         : None\n",
      "save_history    : True\n",
      "noise           : None\n",
      "\n",
      "Method          : BFGS\n",
      "Objective       : 4 expectationvalues\n",
      "gradient        : 48 expectationvalues\n",
      "\n",
      "active variables : 4\n",
      "\n",
      "E=-1.34122288  angles= {a: 0.0, b: 1.0, c: 1.0, d: 0.0}  samples= None\n",
      "E=-1.36554265  angles= {a: 0.11155933141708374, b: 1.0, c: 1.0, d: 0.17781761288642883}  samples= None\n",
      "E=-1.36658454  angles= {a: 0.10272243630136521, b: 0.9935534159295202, c: 1.0064019139845308, d: 0.21499432013083114}  samples= None\n",
      "E=-1.36833477  angles= {a: 0.058099494256050405, b: 0.9775900773692061, c: 1.023056394046223, d: 0.28127795022067165}  samples= None\n",
      "E=-1.37103558  angles= {a: -0.05316870764747138, b: 0.9473497192317459, c: 1.0546766680502973, d: 0.3993030301002968}  samples= None\n",
      "E=-1.37367809  angles= {a: -0.23638881867206418, b: 0.9141771490413152, c: 1.087514230006737, d: 0.5495720430325262}  samples= None\n",
      "E=-1.37615788  angles= {a: -0.3819438289832486, b: 0.9126639231259984, c: 1.084286735142044, d: 0.6349892622508759}  samples= None\n",
      "E=-1.38046718  angles= {a: -0.6225324382535566, b: 0.9354639185360066, c: 1.0495662104891754, d: 0.7709032013625796}  samples= None\n",
      "E=-1.38611794  angles= {a: -1.0911498068140484, b: 0.9999316303568635, c: 0.9609608835327315, d: 1.0625908232037808}  samples= None\n",
      "E=-1.38980711  angles= {a: -1.2951536138478448, b: 1.055422858885136, c: 0.9059705725875977, d: 1.2249028024567779}  samples= None\n",
      "E=-1.39493084  angles= {a: -1.3402594291710288, b: 1.1215324685076185, c: 0.8588332482521858, d: 1.3181970735445094}  samples= None\n",
      "E=-1.39741099  angles= {a: -1.1057772177917484, b: 1.141596229592042, c: 0.8543830229869231, d: 1.2134582746327731}  samples= None\n",
      "E=-1.39752638  angles= {a: -1.1250263665432103, b: 1.1445457206821181, c: 0.8427627822572473, d: 1.220080721979179}  samples= None\n",
      "E=-1.39759398  angles= {a: -1.1151608958088748, b: 1.1426011916528398, c: 0.8304884798751907, d: 1.2068267724396289}  samples= None\n",
      "E=-1.39767385  angles= {a: -1.0916377609917123, b: 1.1354743641886265, c: 0.8094329141381655, d: 1.1858133605827417}  samples= None\n",
      "E=-1.39777207  angles= {a: -1.0681262502311963, b: 1.1186149090477226, c: 0.7807065574914076, d: 1.1683212632580873}  samples= None\n",
      "E=-1.39794147  angles= {a: -1.046939050820719, b: 1.0823409002837419, c: 0.7331046456751329, d: 1.1563951521075913}  samples= None\n",
      "E=-1.39823854  angles= {a: -1.031928244613442, b: 1.0110829485354644, c: 0.6514125610330178, d: 1.1547681298450811}  samples= None\n",
      "E=-1.39871931  angles= {a: -1.0337296420938615, b: 0.871100234470878, c: 0.5021653643027022, d: 1.1756866720711494}  samples= None\n",
      "E=-1.39906108  angles= {a: -1.0941205366939335, b: 0.6392381484864271, c: 0.2655964184477986, d: 1.251867226378342}  samples= None\n",
      "E=-1.39930475  angles= {a: -1.1468615703178604, b: 0.6804970922604371, c: 0.3136410048785928, d: 1.2871537328812395}  samples= None\n",
      "E=-1.39942431  angles= {a: -1.2203822986181394, b: 0.6324878977562862, c: 0.26531155889640234, d: 1.3549295616161512}  samples= None\n",
      "E=-1.39947999  angles= {a: -1.2855104601592944, b: 0.5614208809128503, c: 0.1979681817553786, d: 1.4171863148923727}  samples= None\n",
      "E=-1.39949763  angles= {a: -1.3358922759552763, b: 0.5262600795875232, c: 0.1592983242130536, d: 1.4672553898868412}  samples= None\n",
      "E=-1.39950812  angles= {a: -1.3730738848479491, b: 0.5112616885134806, c: 0.1487058615884992, d: 1.4998322850778472}  samples= None\n",
      "Optimization terminated successfully.\n",
      "         Current function value: -1.399508\n",
      "         Iterations: 24\n",
      "         Function evaluations: 25\n",
      "         Gradient evaluations: 25\n"
     ]
    }
   ],
   "source": [
    "geomstring = \"H 0.0 0.0 0.0\\nH 0.0 0.0 {R}\"\n",
    "training_points = [0.5, 1.0, 1.5, 3.0]\n",
    "meta_objective = 0.0\n",
    "for R in training_points:\n",
    "    mol = tq.Molecule(name=\"H2_R_{R:1.4f}\".format(R=R), geometry=geomstring.format(R=R), n_pno=1, executable=madness_exe)\n",
    "    H = mol.make_hamiltonian()\n",
    "    U = make_U(mol, meta_angle(R))\n",
    "    E = tq.ExpectationValue(H=H, U=U)\n",
    "    meta_objective += E\n",
    "\n",
    "meta_objective = 1.0/len(training_points)*meta_objective\n",
    "meta_vqe_result = tq.minimize(meta_objective, initial_values={\"b\":1.0, \"c\":1.0})"
   ]
  },
  {
   "cell_type": "code",
   "execution_count": 49,
   "metadata": {
    "slideshow": {
     "slide_type": "skip"
    }
   },
   "outputs": [
    {
     "name": "stdout",
     "output_type": "stream",
     "text": [
      "Starting madness calculation with executable:  /home/jsk/devel/madness/build-opt//src/apps/pno/pno_integrals\n",
      "output redirected to H2_R_0.2500_pno_integrals.out logfile\n",
      "finished after 16.07549262046814s\n",
      "R = 0.25, energy = -0.40852  wfn= +0.9982|1100> -0.0606|0011> \n",
      "Starting madness calculation with executable:  /home/jsk/devel/madness/build-opt//src/apps/pno/pno_integrals\n",
      "output redirected to H2_R_0.7250_pno_integrals.out logfile\n",
      "finished after 14.785600185394287s\n",
      "R = 0.7250000000000001, energy = -1.52834  wfn= +0.9949|1100> -0.1007|0011> \n",
      "Starting madness calculation with executable:  /home/jsk/devel/madness/build-opt//src/apps/pno/pno_integrals\n",
      "output redirected to H2_R_1.2000_pno_integrals.out logfile\n",
      "finished after 15.511678218841553s\n",
      "R = 1.2000000000000002, energy = -1.18528  wfn= +0.9808|1100> -0.1950|0011> \n",
      "Starting madness calculation with executable:  /home/jsk/devel/madness/build-opt//src/apps/pno/pno_integrals\n",
      "output redirected to H2_R_1.6750_pno_integrals.out logfile\n",
      "finished after 15.223435640335083s\n",
      "R = 1.675, energy = -0.99665  wfn= +0.9450|1100> -0.3270|0011> \n",
      "Starting madness calculation with executable:  /home/jsk/devel/madness/build-opt//src/apps/pno/pno_integrals\n",
      "output redirected to H2_R_2.1500_pno_integrals.out logfile\n",
      "finished after 16.407828092575073s\n",
      "R = 2.1500000000000004, energy = -0.89256  wfn= +0.8892|1100> -0.4575|0011> \n",
      "Starting madness calculation with executable:  /home/jsk/devel/madness/build-opt//src/apps/pno/pno_integrals\n",
      "output redirected to H2_R_2.6250_pno_integrals.out logfile\n",
      "finished after 15.794870615005493s\n",
      "R = 2.625, energy = -0.83375  wfn= +0.8317|1100> -0.5552|0011> \n",
      "Starting madness calculation with executable:  /home/jsk/devel/madness/build-opt//src/apps/pno/pno_integrals\n",
      "output redirected to H2_R_3.1000_pno_integrals.out logfile\n",
      "finished after 17.569735050201416s\n",
      "R = 3.1, energy = -0.79802  wfn= +0.7884|1100> -0.6152|0011> \n",
      "Starting madness calculation with executable:  /home/jsk/devel/madness/build-opt//src/apps/pno/pno_integrals\n",
      "output redirected to H2_R_3.5750_pno_integrals.out logfile\n",
      "finished after 17.999277114868164s\n",
      "R = 3.5749999999999997, energy = -0.77407  wfn= +0.7590|1100> -0.6510|0011> \n",
      "Starting madness calculation with executable:  /home/jsk/devel/madness/build-opt//src/apps/pno/pno_integrals\n",
      "output redirected to H2_R_4.0500_pno_integrals.out logfile\n",
      "finished after 17.87303113937378s\n",
      "R = 4.050000000000001, energy = -0.75688  wfn= +0.7429|1100> -0.6694|0011> \n",
      "Starting madness calculation with executable:  /home/jsk/devel/madness/build-opt//src/apps/pno/pno_integrals\n",
      "output redirected to H2_R_4.5250_pno_integrals.out logfile\n",
      "finished after 40.53441762924194s\n",
      "R = 4.525, energy = -0.74357  wfn= +0.7323|1100> -0.6810|0011> \n"
     ]
    }
   ],
   "source": [
    "steps=10\n",
    "start=0.25\n",
    "stop=5.0\n",
    "test_points=[start + x/steps*(stop-start) for x in range(steps)]\n",
    "predicted_angles = {}\n",
    "predicted_energies = {}\n",
    "opt_angles = {}\n",
    "opt_energies = {}\n",
    "for R in test_points:\n",
    "    predicted = meta_angle(R)(variables=meta_vqe_result.variables)\n",
    "    predicted_angles[R] = predicted\n",
    "    mol = tq.Molecule(name=\"H2_R_{R:1.4f}\".format(R=R), geometry=geomstring.format(R=R), n_pno=1, executable=madness_exe)\n",
    "    H = mol.make_hamiltonian()\n",
    "    U = make_U(mol, angle=\"x\")\n",
    "    objective = tq.ExpectationValue(H=H, U=U)\n",
    "    predicted_energies[R] = tq.simulate(objective, variables={\"x\":predicted})\n",
    "    opt = tq.minimize(objective, silent=True, initial_values={\"x\":predicted})\n",
    "    opt_angles[R] = opt.variables[\"x\"] \n",
    "    opt_energies[R] = opt.energy\n",
    "    print(\"R = {}, energy = {:2.5f}\".format(R, opt.energy), \" wfn=\", tq.simulate(U, variables=opt.variables))"
   ]
  },
  {
   "cell_type": "code",
   "execution_count": 50,
   "metadata": {
    "slideshow": {
     "slide_type": "subslide"
    }
   },
   "outputs": [
    {
     "data": {
      "text/plain": [
       "<matplotlib.legend.Legend at 0x7f411420a7d0>"
      ]
     },
     "execution_count": 50,
     "metadata": {},
     "output_type": "execute_result"
    },
    {
     "data": {
      "image/png": "[encoded data removed]",
      "text/plain": [
       "<Figure size 432x288 with 1 Axes>"
      ]
     },
     "metadata": {
      "needs_background": "light"
     },
     "output_type": "display_data"
    }
   ],
   "source": [
    "from matplotlib import pyplot as plt\n",
    "plt.figure()\n",
    "plt.plot(list(predicted_angles.keys()), list(predicted_angles.values()), label=\"predicted\", marker=\"o\", markersize=5)\n",
    "plt.plot(list(opt_angles.keys()), list(opt_angles.values()), label=\"opt\", marker=\"x\", markersize=3)\n",
    "plt.title(\"angle\")\n",
    "plt.legend()"
   ]
  },
  {
   "cell_type": "code",
   "execution_count": 51,
   "metadata": {
    "slideshow": {
     "slide_type": "subslide"
    }
   },
   "outputs": [
    {
     "data": {
      "text/plain": [
       "<matplotlib.legend.Legend at 0x7f41b4f3e350>"
      ]
     },
     "execution_count": 51,
     "metadata": {},
     "output_type": "execute_result"
    },
    {
     "data": {
      "image/png": "[encoded data removed]",
      "text/plain": [
       "<Figure size 432x288 with 1 Axes>"
      ]
     },
     "metadata": {
      "needs_background": "light"
     },
     "output_type": "display_data"
    }
   ],
   "source": [
    "from matplotlib import pyplot as plt\n",
    "plt.figure()\n",
    "plt.plot(list(predicted_energies.keys()), list(predicted_energies.values()), label=\"predicted\", marker=\"o\", markersize=5)\n",
    "plt.plot(list(opt_energies.keys()), list(opt_energies.values()), label=\"opt\", marker=\"x\", markersize=3)\n",
    "plt.title(\"energy\")\n",
    "plt.legend()"
   ]
  },
  {
   "cell_type": "markdown",
   "metadata": {
    "slideshow": {
     "slide_type": "slide"
    }
   },
   "source": [
    "### Suggestions\n",
    "\n",
    "<img src=\"pics/tq_to_pl.png\" width=\"1400px\">\n"
   ]
  },
  {
   "cell_type": "markdown",
   "metadata": {
    "slideshow": {
     "slide_type": "slide"
    }
   },
   "source": [
    "<img src=\"pics/ack.png\" width=\"1400px\">\n"
   ]
  },
  {
   "cell_type": "markdown",
   "metadata": {
    "slideshow": {
     "slide_type": "fragment"
    }
   },
   "source": [
    "- Overview: [Arxiv:2011.03057](https://arxiv.org/abs/2011.03057)  \n",
    "- Code & Tutorials: [github.com/aspuru-guzik-group/tequila](https://github.com/aspuru-guzik-group/tequila)  \n",
    "- Install: `pip install git+https://github.com/aspuru-guzik-group/tequila.git`  \n",
    "- Not to be confused with the Minecraft server manager :-)\n",
    "~~`pip install tequila`~~"
   ]
  },
  {
   "cell_type": "code",
   "execution_count": null,
   "metadata": {},
   "outputs": [],
   "source": []
  }
 ],
 "metadata": {
  "celltoolbar": "Slideshow",
  "kernelspec": {
   "display_name": "tequila-3.7",
   "language": "python",
   "name": "tequila-3.7"
  },
  "language_info": {
   "codemirror_mode": {
    "name": "ipython",
    "version": 3
   },
   "file_extension": ".py",
   "mimetype": "text/x-python",
   "name": "python",
   "nbconvert_exporter": "python",
   "pygments_lexer": "ipython3",
   "version": "3.7.9"
  }
 },
 "nbformat": 4,
 "nbformat_minor": 2
}
